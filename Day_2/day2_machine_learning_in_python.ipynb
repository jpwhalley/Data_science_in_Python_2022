{
 "cells": [
  {
   "cell_type": "markdown",
   "metadata": {},
   "source": [
    "# Modelling for Global Health - Data science in Python\n",
    "## Day 2: Machine learning in Python\n",
    "\n",
    "On a small dataset we will go through the typical pipeline of a real Machine Learning project: start with statistical summaries and visualization of the data, build multiple different machine learning models, use cross-validation to estimate their accuracies, select the best algorithm, make and evaluate the predictions on a validation set. \n",
    "At the end of the session, we might have a look at the other useful functions integrated into scikit-learn\n",
    "\n",
    "With thanks to Irina Chelysheva\n",
    "\n",
    "References:\n",
    "+ Jason Brownlee, Machine Learning Mastery with Python\n",
    "+ René Laqua, kaggle Python notebook - https://www.kaggle.com/kumargh/pimaindiansdiabetescsv"
   ]
  },
  {
   "cell_type": "code",
   "execution_count": 1,
   "metadata": {},
   "outputs": [],
   "source": [
    "# Packages for importing, cleaning and looking at the data\n",
    "import numpy as np\n",
    "import matplotlib.pyplot as plt\n",
    "import pandas as pd"
   ]
  },
  {
   "cell_type": "markdown",
   "metadata": {},
   "source": [
    "## Full dataset information:\n",
    "This dataset describes the medical records for Pima Indians and whether or not each patient will have an onset of diabetes within five (?) years.\n",
    "\n",
    "## Consists of several medical predictor variables and one target variable (class)\n",
    "### Attributes:\n",
    "1. Number of times pregnant\n",
    "2. Plasma glucose concentration a 2 hours in an oral glucose tolerance test\n",
    "3. Diastolic blood pressure (mm Hg)\n",
    "4. Triceps skin fold thickness (mm)\n",
    "5. 2-Hour serum insulin (mu U/ml)\n",
    "6. Body mass index (weight in kg/(height in m)^2)\n",
    "7. Diabetes pedigree function\n",
    "8. Age (years)\n",
    "9. Class variable (0 or 1)"
   ]
  },
  {
   "cell_type": "code",
   "execution_count": 2,
   "metadata": {},
   "outputs": [],
   "source": [
    "# Load the dataset\n",
    "url = \"https://raw.githubusercontent.com/jbrownlee/Datasets/master/pima-indians-diabetes.data.csv\"\n",
    "names = ['preg', 'glu', 'pres', 'skin', 'ins', 'bmi', 'pedi', 'age', 'class']\n",
    "dataset = pd.read_csv(url, names=names)"
   ]
  },
  {
   "cell_type": "code",
   "execution_count": 3,
   "metadata": {},
   "outputs": [
    {
     "name": "stdout",
     "output_type": "stream",
     "text": [
      "(768, 9)\n",
      "    preg  glu  pres  skin  ins   bmi   pedi  age  class\n",
      "0      6  148    72    35    0  33.6  0.627   50      1\n",
      "1      1   85    66    29    0  26.6  0.351   31      0\n",
      "2      8  183    64     0    0  23.3  0.672   32      1\n",
      "3      1   89    66    23   94  28.1  0.167   21      0\n",
      "4      0  137    40    35  168  43.1  2.288   33      1\n",
      "5      5  116    74     0    0  25.6  0.201   30      0\n",
      "6      3   78    50    32   88  31.0  0.248   26      1\n",
      "7     10  115     0     0    0  35.3  0.134   29      0\n",
      "8      2  197    70    45  543  30.5  0.158   53      1\n",
      "9      8  125    96     0    0   0.0  0.232   54      1\n",
      "10     4  110    92     0    0  37.6  0.191   30      0\n",
      "11    10  168    74     0    0  38.0  0.537   34      1\n",
      "12    10  139    80     0    0  27.1  1.441   57      0\n",
      "13     1  189    60    23  846  30.1  0.398   59      1\n",
      "14     5  166    72    19  175  25.8  0.587   51      1\n",
      "15     7  100     0     0    0  30.0  0.484   32      1\n",
      "16     0  118    84    47  230  45.8  0.551   31      1\n",
      "17     7  107    74     0    0  29.6  0.254   31      1\n",
      "18     1  103    30    38   83  43.3  0.183   33      0\n",
      "19     1  115    70    30   96  34.6  0.529   32      1\n",
      "             preg         glu        pres        skin         ins         bmi  \\\n",
      "count  768.000000  768.000000  768.000000  768.000000  768.000000  768.000000   \n",
      "mean     3.845052  120.894531   69.105469   20.536458   79.799479   31.992578   \n",
      "std      3.369578   31.972618   19.355807   15.952218  115.244002    7.884160   \n",
      "min      0.000000    0.000000    0.000000    0.000000    0.000000    0.000000   \n",
      "25%      1.000000   99.000000   62.000000    0.000000    0.000000   27.300000   \n",
      "50%      3.000000  117.000000   72.000000   23.000000   30.500000   32.000000   \n",
      "75%      6.000000  140.250000   80.000000   32.000000  127.250000   36.600000   \n",
      "max     17.000000  199.000000  122.000000   99.000000  846.000000   67.100000   \n",
      "\n",
      "             pedi         age       class  \n",
      "count  768.000000  768.000000  768.000000  \n",
      "mean     0.471876   33.240885    0.348958  \n",
      "std      0.331329   11.760232    0.476951  \n",
      "min      0.078000   21.000000    0.000000  \n",
      "25%      0.243750   24.000000    0.000000  \n",
      "50%      0.372500   29.000000    0.000000  \n",
      "75%      0.626250   41.000000    1.000000  \n",
      "max      2.420000   81.000000    1.000000  \n",
      "class\n",
      "0    500\n",
      "1    268\n",
      "dtype: int64\n"
     ]
    }
   ],
   "source": [
    "#  Discover the dataset\n",
    "# Shape\n",
    "print(dataset.shape)\n",
    "# Head\n",
    "print(dataset.head(20))\n",
    "# Descriptions\n",
    "print(dataset.describe())\n",
    "# Class distribution\n",
    "print(dataset.groupby('class').size())"
   ]
  },
  {
   "cell_type": "code",
   "execution_count": 4,
   "metadata": {},
   "outputs": [
    {
     "name": "stdout",
     "output_type": "stream",
     "text": [
      "             preg         glu        pres        skin         ins         bmi  \\\n",
      "count  768.000000  768.000000  768.000000  768.000000  768.000000  768.000000   \n",
      "mean     3.845052  121.681605   72.254807   26.606479  118.660163   32.450805   \n",
      "std      3.369578   30.436016   12.115932    9.631241   93.080358    6.875374   \n",
      "min      0.000000   44.000000   24.000000    7.000000   14.000000   18.200000   \n",
      "25%      1.000000   99.750000   64.000000   20.536458   79.799479   27.500000   \n",
      "50%      3.000000  117.000000   72.000000   23.000000   79.799479   32.000000   \n",
      "75%      6.000000  140.250000   80.000000   32.000000  127.250000   36.600000   \n",
      "max     17.000000  199.000000  122.000000   99.000000  846.000000   67.100000   \n",
      "\n",
      "             pedi         age       class  \n",
      "count  768.000000  768.000000  768.000000  \n",
      "mean     0.471876   33.240885    0.348958  \n",
      "std      0.331329   11.760232    0.476951  \n",
      "min      0.078000   21.000000    0.000000  \n",
      "25%      0.243750   24.000000    0.000000  \n",
      "50%      0.372500   29.000000    0.000000  \n",
      "75%      0.626250   41.000000    1.000000  \n",
      "max      2.420000   81.000000    1.000000  \n"
     ]
    }
   ],
   "source": [
    "# Clean-up the dataset\n",
    "# Replace zero/invalid values with the mean in the group\n",
    "# It does not seem to improve the results in this case, might be useful in others\n",
    "dataset_nozeros = dataset.copy()\n",
    "zero_fields = ['glu', 'pres', 'skin', 'ins', 'bmi'] \n",
    "dataset[zero_fields] = dataset[zero_fields].replace(0, np.nan)\n",
    "dataset[zero_fields] = dataset[zero_fields].fillna(dataset_nozeros.mean())\n",
    "print(dataset.describe())  # check that there are no invalid values left"
   ]
  },
  {
   "cell_type": "code",
   "execution_count": 5,
   "metadata": {},
   "outputs": [
    {
     "data": {
      "image/png": "[encoded data removed]",
      "text/plain": [
       "<Figure size 432x288 with 9 Axes>"
      ]
     },
     "metadata": {
      "needs_background": "light"
     },
     "output_type": "display_data"
    },
    {
     "data": {
      "image/png": "[encoded data removed]",
      "text/plain": [
       "<Figure size 432x288 with 9 Axes>"
      ]
     },
     "metadata": {
      "needs_background": "light"
     },
     "output_type": "display_data"
    }
   ],
   "source": [
    "# Visualize the data\n",
    "# Box plots - gives us a clear idea of the distribution of the input attributes\n",
    "dataset.plot(kind='box', subplots=True, layout=(3,3), sharex=False, sharey=False)\n",
    "plt.tight_layout()\n",
    "plt.show()\n",
    "# Histograms\n",
    "dataset.hist()\n",
    "plt.tight_layout()\n",
    "plt.show()"
   ]
  },
  {
   "cell_type": "code",
   "execution_count": 6,
   "metadata": {},
   "outputs": [],
   "source": [
    "# Packages for machine learning usign sklearn\n",
    "from sklearn.model_selection import train_test_split\n",
    "from sklearn.model_selection import cross_val_score\n",
    "from sklearn.model_selection import StratifiedKFold\n",
    "from sklearn.linear_model import LogisticRegression\n",
    "from sklearn.tree import DecisionTreeClassifier\n",
    "from sklearn.neighbors import KNeighborsClassifier\n",
    "from sklearn.discriminant_analysis import LinearDiscriminantAnalysis\n",
    "from sklearn.naive_bayes import GaussianNB\n",
    "from sklearn.svm import SVC"
   ]
  },
  {
   "cell_type": "code",
   "execution_count": 7,
   "metadata": {},
   "outputs": [],
   "source": [
    "# Split-out validation dataset\n",
    "array = dataset.values\n",
    "# Separate the last - class column from training/testing data\n",
    "X = array[:,0:8]\n",
    "Y = array[:,8]\n",
    "test_size = 0.25\n",
    "# Pass an int for reproducible output across multiple function calls\n",
    "seed = 5\n",
    "# Split dataset in a stratified fashion\n",
    "X_train, X_test, Y_train, Y_test = train_test_split(X, Y, test_size=test_size, random_state=seed,stratify=dataset['class'])"
   ]
  },
  {
   "cell_type": "code",
   "execution_count": 8,
   "metadata": {},
   "outputs": [
    {
     "name": "stdout",
     "output_type": "stream",
     "text": [
      "LR: 0.758651 (0.041276)\n",
      "LDA: 0.784634 (0.030761)\n",
      "KNN: 0.718905 (0.051517)\n",
      "CART: 0.685874 (0.037597)\n",
      "NB: 0.749970 (0.038113)\n",
      "SVM: 0.651028 (0.005215)\n"
     ]
    },
    {
     "data": {
      "image/png": "[encoded data removed]",
      "text/plain": [
       "<Figure size 432x288 with 1 Axes>"
      ]
     },
     "metadata": {
      "needs_background": "light"
     },
     "output_type": "display_data"
    }
   ],
   "source": [
    "# Build models to check the algorithms\n",
    "models = []\n",
    "models.append(('LR', LogisticRegression(solver='liblinear')))\n",
    "models.append(('LDA', LinearDiscriminantAnalysis()))\n",
    "models.append(('KNN', KNeighborsClassifier()))\n",
    "models.append(('CART', DecisionTreeClassifier()))\n",
    "models.append(('NB', GaussianNB()))\n",
    "models.append(('SVM', SVC(gamma='auto')))\n",
    "# Evaluate each model\n",
    "results = []\n",
    "names = []\n",
    "for name, model in models:\n",
    "\tkfold = StratifiedKFold(n_splits=10) # , random_state=seed\n",
    "\tcv_results = cross_val_score(model, X_train, Y_train, cv=kfold, scoring='accuracy')\n",
    "\tresults.append(cv_results)\n",
    "\tnames.append(name)\n",
    "\tprint('%s: %f (%f)' % (name, cv_results.mean(), cv_results.std()))\n",
    "# Compare algorithms\n",
    "plt.boxplot(results, labels=names)\n",
    "plt.title('Algorithm Comparison')\n",
    "plt.show()"
   ]
  },
  {
   "cell_type": "code",
   "execution_count": 9,
   "metadata": {},
   "outputs": [
    {
     "name": "stdout",
     "output_type": "stream",
     "text": [
      "0.7708333333333334\n",
      "              precision    recall  f1-score   support\n",
      "\n",
      "         0.0       0.79      0.89      0.83       125\n",
      "         1.0       0.73      0.55      0.63        67\n",
      "\n",
      "    accuracy                           0.77       192\n",
      "   macro avg       0.76      0.72      0.73       192\n",
      "weighted avg       0.77      0.77      0.76       192\n",
      "\n",
      "[[111  14]\n",
      " [ 30  37]]\n"
     ]
    },
    {
     "data": {
      "text/plain": [
       "<Figure size 432x288 with 0 Axes>"
      ]
     },
     "metadata": {},
     "output_type": "display_data"
    },
    {
     "data": {
      "image/png": "[encoded data removed]",
      "text/plain": [
       "<Figure size 288x288 with 1 Axes>"
      ]
     },
     "metadata": {
      "needs_background": "light"
     },
     "output_type": "display_data"
    }
   ],
   "source": [
    "# Use the best model to make predictions and evaluate it\n",
    "from sklearn.metrics import classification_report\n",
    "from sklearn.metrics import confusion_matrix\n",
    "from sklearn.metrics import accuracy_score\n",
    "\n",
    "# Make predictions on validation dataset\n",
    "model = LinearDiscriminantAnalysis()\n",
    "model.fit(X_train, Y_train)\n",
    "predictions = model.predict(X_test)\n",
    "\n",
    "# Evaluate predictions\n",
    "print(accuracy_score(Y_test, predictions))\n",
    "print(classification_report(Y_test, predictions))\n",
    "\n",
    "# Plot confusion matrix\n",
    "print(confusion_matrix(Y_test, predictions))\n",
    "conf_matrix = confusion_matrix(Y_test, predictions)\n",
    "plt.figure()\n",
    "plt.matshow(conf_matrix, cmap='Pastel1')\n",
    "for x in range(0, 2):\n",
    "    for y in range(0, 2):\n",
    "        plt.text(x, y, conf_matrix[x, y])\n",
    "        \n",
    "plt.ylabel('expected label')\n",
    "plt.xlabel('predicted label')\n",
    "plt.show()"
   ]
  },
  {
   "cell_type": "code",
   "execution_count": 10,
   "metadata": {},
   "outputs": [
    {
     "name": "stdout",
     "output_type": "stream",
     "text": [
      "Sensitivity: 0.5522\n",
      "Specificity  : 0.8880\n",
      "0.6510416666666666\n"
     ]
    }
   ],
   "source": [
    "# Calculate Sensitivity and Specificity\n",
    "TP = conf_matrix[1, 1]\n",
    "TN = conf_matrix[0, 0]\n",
    "FP = conf_matrix[0, 1]\n",
    "FN = conf_matrix[1, 0]\n",
    "\n",
    "print(\"Sensitivity: %.4f\" % (TP / float(TP + FN)))\n",
    "print(\"Specificity  : %.4f\" % (TN / float(TN + FP)))\n",
    "\n",
    "# Null accuracy - accuracy to be achieved by always predicting the most frequent class\n",
    "most_outcome = dataset['class'].median()\n",
    "prediction_most = [most_outcome for i in range(len(Y_test))]\n",
    "print(accuracy_score(Y_test, prediction_most))"
   ]
  },
  {
   "cell_type": "code",
   "execution_count": 11,
   "metadata": {},
   "outputs": [
    {
     "name": "stdout",
     "output_type": "stream",
     "text": [
      "0.7708333333333334\n"
     ]
    }
   ],
   "source": [
    "# Save the finalized model to disk\n",
    "import pickle\n",
    "filename = 'finalized_model.sav'\n",
    "pickle.dump(model, open(filename, 'wb'))\n",
    " \n",
    "# At some point later...\n",
    " \n",
    "# Load the model back from disk\n",
    "loaded_model = pickle.load(open(filename, 'rb'))\n",
    "result = loaded_model.score(X_test, Y_test)\n",
    "print(result)"
   ]
  },
  {
   "cell_type": "code",
   "execution_count": 12,
   "metadata": {},
   "outputs": [
    {
     "data": {
      "image/png": "[encoded data removed]",
      "text/plain": [
       "<Figure size 432x288 with 1 Axes>"
      ]
     },
     "metadata": {
      "needs_background": "light"
     },
     "output_type": "display_data"
    }
   ],
   "source": [
    "# Improving the model by changing the classification threshold\n",
    "# Print the first 10 predicted responses\n",
    "model.predict(X_test)[0:10]\n",
    "# Print the first 10 predicted probabilities of class membership\n",
    "model.predict_proba(X_test)[0:10]\n",
    "# Histogram of predicted probabilities\n",
    "save_predictions_proba = model.predict_proba(X_test)[:, 1]\n",
    "plt.hist(save_predictions_proba, bins=10)\n",
    "plt.xlim(0,1) # x-axis limit from 0 to 1\n",
    "plt.title('Histogram of predicted probabilities')\n",
    "plt.xlabel('Predicted probability of diabetes')\n",
    "plt.ylabel('Frequency')\n",
    "plt.show()"
   ]
  },
  {
   "cell_type": "code",
   "execution_count": 13,
   "metadata": {},
   "outputs": [
    {
     "name": "stderr",
     "output_type": "stream",
     "text": [
      "/Users/jpw/opt/anaconda3/lib/python3.8/site-packages/sklearn/utils/validation.py:70: FutureWarning: Pass threshold=0.35 as keyword args. From version 1.0 (renaming of 0.25) passing these as positional arguments will result in an error\n",
      "  warnings.warn(f\"Pass {args_msg} as keyword args. From version \"\n"
     ]
    },
    {
     "data": {
      "text/plain": [
       "<Figure size 432x288 with 0 Axes>"
      ]
     },
     "metadata": {},
     "output_type": "display_data"
    },
    {
     "data": {
      "image/png": "[encoded data removed]",
      "text/plain": [
       "<Figure size 288x288 with 1 Axes>"
      ]
     },
     "metadata": {
      "needs_background": "light"
     },
     "output_type": "display_data"
    },
    {
     "name": "stdout",
     "output_type": "stream",
     "text": [
      "new Sensitivity: 0.6418\n",
      "new Specificity  : 0.7760\n"
     ]
    }
   ],
   "source": [
    "# Change threshold: \n",
    "# Predict diabetes if the predicted probability is greater than 0.3\n",
    "from sklearn.preprocessing import binarize\n",
    "\n",
    "# Return 1 for all values greater than 0.3, otherwise - 0\n",
    "prediction2 = binarize(save_predictions_proba.reshape(-1, 1), 0.35)\n",
    "conf_matrix2 = confusion_matrix(Y_test, prediction2)\n",
    "\n",
    "plt.figure()\n",
    "plt.matshow(conf_matrix2, cmap='Pastel1')\n",
    "for x in range(0, 2):\n",
    "    for y in range(0, 2):\n",
    "        plt.text(x, y, conf_matrix2[x, y])\n",
    "        \n",
    "plt.ylabel('expected label')\n",
    "plt.xlabel('predicted label')\n",
    "plt.show()\n",
    "TP = conf_matrix2[1, 1]\n",
    "TN = conf_matrix2[0, 0]\n",
    "FP = conf_matrix2[0, 1]\n",
    "FN = conf_matrix2[1, 0]\n",
    "\n",
    "print(\"new Sensitivity: %.4f\" % (TP / float(TP + FN)))\n",
    "print(\"new Specificity  : %.4f\" % (TN / float(TN + FP)))"
   ]
  },
  {
   "cell_type": "code",
   "execution_count": 15,
   "metadata": {},
   "outputs": [
    {
     "data": {
      "text/plain": [
       "<matplotlib.legend.Legend at 0x7f9ff8d0e2b0>"
      ]
     },
     "execution_count": 15,
     "metadata": {},
     "output_type": "execute_result"
    },
    {
     "data": {
      "image/png": "[encoded data removed]",
      "text/plain": [
       "<Figure size 720x360 with 1 Axes>"
      ]
     },
     "metadata": {
      "needs_background": "light"
     },
     "output_type": "display_data"
    }
   ],
   "source": [
    "# Plot ROC curve\n",
    "from sklearn.metrics import roc_curve, auc\n",
    "# Input: first argument - true values, second argument - predicted probabilities\n",
    "# Output: FPR, TPR, thresholds\n",
    "# FPR: False Positive Rate\n",
    "# TPR: True Positive Rate\n",
    "FPR, TPR, thresholds = roc_curve(Y_test, save_predictions_proba)\n",
    "\n",
    "# Plot!\n",
    "plt.figure(figsize=(10,5))\n",
    "plt.plot(FPR, TPR)\n",
    "plt.xlim([0.0, 1.0])\n",
    "plt.ylim([0.0, 1.0])\n",
    "plt.plot([0, 1], [0, 1], color='navy', lw=2, linestyle='--')\n",
    "plt.plot(FPR, TPR, lw=2, label='LinearDiscriminantAnalysis (AUC = %0.2f)' % auc(FPR, TPR))\n",
    "plt.title('ROC curve for diabetes classifier')\n",
    "plt.xlabel('False Positive Rate (1 - Specificity)')\n",
    "plt.ylabel('True Positive Rate (Sensitivity)')\n",
    "plt.grid(True)\n",
    "plt.legend(loc=\"lower right\")"
   ]
  },
  {
   "cell_type": "code",
   "execution_count": null,
   "metadata": {},
   "outputs": [],
   "source": []
  }
 ],
 "metadata": {
  "kernelspec": {
   "display_name": "Python 3",
   "language": "python",
   "name": "python3"
  },
  "language_info": {
   "codemirror_mode": {
    "name": "ipython",
    "version": 3
   },
   "file_extension": ".py",
   "mimetype": "text/x-python",
   "name": "python",
   "nbconvert_exporter": "python",
   "pygments_lexer": "ipython3",
   "version": "3.8.8"
  }
 },
 "nbformat": 4,
 "nbformat_minor": 2
}
